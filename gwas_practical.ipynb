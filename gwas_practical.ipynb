{
 "cells": [
  {
   "cell_type": "markdown",
   "id": "1dc447ee",
   "metadata": {},
   "source": [
    "# Practical on Genome-Wide Association Studies\n",
    "## Tuesday afternoon, 21/6/2022\n",
    "\n",
    "#### What's included in this directory\n",
    "* `example_1/` containing `data/` with `example_1.[bed, bim, fam]` and `pheno_1.pheno` files along with information on structure/stratification.\n",
    "* `example_2/` containing `data/` with `example_2.[bed, bim, fam]` and `pheno_2.pheno` files.\n",
    "* `example_3/` containing `data/` with `example_3.[bed, bim, fam]` and `pheno_3.pheno` files. "
   ]
  },
  {
   "cell_type": "markdown",
   "id": "fcc99718",
   "metadata": {},
   "source": [
    "#### The following two blocks contain paths to the programmes we will use and useful plotting functions. Feel free to scroll down to Exercise 1."
   ]
  },
  {
   "cell_type": "code",
   "execution_count": null,
   "id": "58a55ac7",
   "metadata": {},
   "outputs": [],
   "source": [
    "import os\n",
    "import sys\n",
    "import numpy as np\n",
    "import pandas as pd\n",
    "import dash_bio\n",
    "from scipy.stats import chi2\n",
    "import matplotlib.pyplot as plt\n",
    "from IPython.display import Image, display\n",
    "import seaborn as sns\n",
    "\n",
    "# Hardlinks to the software we need:\n",
    "PLINK=\"/opt/conda/bin/plink2\"\n",
    "BOLT=\"/usr/local/bin/bolt\"\n",
    "REGENIE=\"/usr/local/bin/regenie\""
   ]
  },
  {
   "cell_type": "code",
   "execution_count": null,
   "id": "fe7181ee",
   "metadata": {},
   "outputs": [],
   "source": [
    "def draw_manhattan_plot(sumstats, adjusted_sumstats=None):\n",
    "    ss = pd.read_table(sumstats, delim_whitespace=True)\n",
    "    if \"bolt\" in sumstats:\n",
    "        ss['P'] = ss.P_BOLT_LMM_INF\n",
    "        ss['GENE'] = \"\"\n",
    "    else:\n",
    "        ss = ss[ss.TEST == 'ADD']\n",
    "\n",
    "    if ss.columns[0] == \"#CHROM\":\n",
    "        ss = ss.rename(columns = {\n",
    "            '#CHROM': 'CHR',\n",
    "            'POS': 'BP'\n",
    "        })\n",
    "        ss['GENE'] = \"\"\n",
    "        ss['SNP'] = ss['BP']\n",
    "    if adjusted_sumstats is not None:\n",
    "        adf = pd.read_table(adjusted_sumstats, delim_whitespace=True)\n",
    "        adf = adf.rename(columns = {'#CHROM': 'CHR'})\n",
    "        df = pd.merge(adf, ss, on=['ID', 'CHR'])\n",
    "        df['P'] = df.GC\n",
    "        ss = df.sort_values(['CHR', 'BP'])\n",
    "\n",
    "    out_path = sumstats.split(\"/\")[-1].replace(\"glm.linear\", \"manhattan.png\")\n",
    "    fig = dash_bio.ManhattanPlot(dataframe=ss, title=\"\", showlegend=False, highlight=False, genomewideline_value=-np.log10(5e-8))\n",
    "    out_path = f\"{sumstats}.manhattan.png\"\n",
    "    print(f\"Writing to {out_path}\")\n",
    "    fig.write_image(out_path, width=600, height=350)\n",
    "    display(Image(out_path))\n",
    "    \n",
    "def draw_qq_plot(sumstats):\n",
    "\n",
    "    ss = pd.read_table(sumstats, delim_whitespace=True)\n",
    "    if \"bolt\" in sumstats:\n",
    "        pvals = ss.P_BOLT_LMM_INF\n",
    "    elif \"adjusted\" in sumstats:\n",
    "        pvals = ss.GC\n",
    "    else:\n",
    "        ss = ss[ss.TEST == 'ADD']\n",
    "        pvals = ss.P\n",
    "    sorted_pvals = np.sort(pvals)\n",
    "\n",
    "    # Expected P-values are uniformly distributed\n",
    "    pval_grid = np.linspace(0, 1, len(sorted_pvals) + 1)\n",
    "    expected_pvals = (pval_grid[:-1] + pval_grid[1:]) / 2\n",
    "\n",
    "    # Calculate genomic control factor\n",
    "    p_median = np.nanmedian(sorted_pvals)\n",
    "    lambda_gc = chi2.ppf(1 - p_median, df=1) / 0.456\n",
    "\n",
    "    # Set up a scatter plot of the results\n",
    "    out_path = sumstats.split(\"/\")[-1] + \".qq.png\"\n",
    "    _, ax = plt.subplots()\n",
    "    plt.scatter(x=-np.log10(expected_pvals), y=-np.log10(sorted_pvals), s=3)\n",
    "    plt.xlabel(\"Expected -log10 P-values\")\n",
    "    plt.ylabel(\"Observed -log10 P-values\")\n",
    "    plt.title(\"QQ-plot of association statistics\")\n",
    "    plt.axline((0, 0), slope=1, color='red')\n",
    "    plt.text(0.1, 0.8, f\"Genomic control factor = {lambda_gc:.3f}\", transform = ax.transAxes)\n",
    "    plt.show()\n",
    "\n",
    "def draw_top_2_pcs(eigenvec, pops=None):\n",
    "    vec_table = pd.read_table(eigenvec, delim_whitespace=True)\n",
    "\n",
    "    if pops is not None and os.path.exists(pops):\n",
    "        pop_table = pd.read_table(pops, delim_whitespace=True)\n",
    "        table = pd.merge(vec_table, pop_table, on=\"IID\")\n",
    "        sns.scatterplot(data=table, x=\"PC1\", y=\"PC2\", hue='POP').set(title=\"Principal components\")\n",
    "    else:\n",
    "        sns.scatterplot(data=vec_table, x=\"PC1\", y=\"PC2\").set(title=\"Principal components\")\n",
    "    plt.show()\n",
    "\n",
    "def draw_stratification(phenotype, populations):\n",
    "    pheno_table = pd.read_table(phenotype, delim_whitespace=True)\n",
    "    pop_table = pd.read_table(populations, delim_whitespace=True)\n",
    "    table = pd.merge(pheno_table, pop_table, on='IID')\n",
    "\n",
    "    sns.violinplot(data=table, x='POP', y=\"pheno_1\").set(title=\"Phenotype distribution for each population\")\n",
    "    plt.show()\n",
    "\n",
    "def draw_relatedness(rel_path):\n",
    "    rel_cut_off = 0.25\n",
    "\n",
    "    max_rel = []\n",
    "    with open(rel_path, 'r') as relfile:\n",
    "        for i, line in enumerate(relfile):\n",
    "            l = [float(r) for r in line.strip().split()]\n",
    "            del l[i]\n",
    "            max_rel.append(max(l))\n",
    "\n",
    "    plt.figure(figsize=(6,5))\n",
    "    sns.boxplot(data=max_rel, whis=np.inf)\n",
    "    ax = sns.stripplot(data=max_rel, color=\"black\", edgecolor=\"gray\", size=3)\n",
    "    ax.axhline(0.25, color='black', linestyle='--')\n",
    "    ax.axes.xaxis.set_visible(False)\n",
    "    plt.title(\"Maximum relatedness per sample\")\n",
    "    plt.ylim(0, 1)\n",
    "    plt.show()\n",
    "\n",
    "def draw_multiple_qq():\n",
    "    pvals = {}\n",
    "    sumstats=\"example_2/data/gwas.linreg.pheno_2.glm.linear\"\n",
    "    ss = pd.read_table(sumstats, delim_whitespace=True)\n",
    "    ss = ss[ss.TEST == 'ADD']\n",
    "    pvals[\"LR naive\"]  = ss.P\n",
    "\n",
    "    sumstats=\"example_2/data/gwas_adjust.pheno_2.glm.linear.adjusted\"\n",
    "    ss = pd.read_table(sumstats, delim_whitespace=True)\n",
    "    pvals[\"LR + GC\"] = ss.GC\n",
    "\n",
    "    sumstats=\"example_2/data/gwas.bolt.pheno_2.sumstats.gz\"\n",
    "    ss = pd.read_table(sumstats, delim_whitespace=True)\n",
    "    pvals[\"BOLT:Inf\"] = ss.P_BOLT_LMM_INF\n",
    "\n",
    "    sumstats=\"example_2/data/gwas.regenie_pheno_2.regenie.gz\"\n",
    "    ss = pd.read_table(sumstats, delim_whitespace=True)\n",
    "    pvals[\"Regenie\"] = 10**(-ss.LOG10P)\n",
    "\n",
    "    _, ax = plt.subplots(figsize=(6,6))\n",
    "\n",
    "    for met in pvals:\n",
    "        sorted_pvals = np.sort(pvals[met])\n",
    "\n",
    "        # Expected P-values are uniformly distributed\n",
    "        pval_grid = np.linspace(0, 1, len(sorted_pvals) + 1)\n",
    "        expected_pvals = (pval_grid[:-1] + pval_grid[1:]) / 2\n",
    "\n",
    "        # Calculate genomic control factor\n",
    "        p_median = np.nanmedian(sorted_pvals)\n",
    "        lambda_gc = chi2.ppf(1 - p_median, df=1) / 0.456\n",
    "        # Set up a scatter plot of the results\n",
    "        plt.scatter(x=-np.log10(expected_pvals), y=-np.log10(sorted_pvals), s=3, label=f\"{met} | {lambda_gc:.3f}\")\n",
    "\n",
    "    X=-np.log10(expected_pvals)\n",
    "    plt.plot( [min(X),max(X)], [min(X),max(X)], color='grey', linestyle='--')\n",
    "    plt.xlabel(\"Expected -log10 P-values\")\n",
    "    plt.ylabel(\"Observed -log10 P-values\")\n",
    "    plt.title(\"QQ-plot of association statistics\")\n",
    "    plt.legend(title=\"Method   |   $\\lambda_{GC}$\")\n",
    "    plt.show()"
   ]
  },
  {
   "cell_type": "markdown",
   "id": "6f9a0e95",
   "metadata": {},
   "source": [
    "# Exercise 1\n",
    "We have simulated 10 short chromosomes for 1,000 individuals and generated a heritable phenotype in `example_1/data/example_1.[bim/bed/fam]`. In this exercise we will perform a GWAS and examine structure in the sample.\n",
    "\n",
    "We start by running a GWAS using the simple linear model $y = bx + \\epsilon$."
   ]
  },
  {
   "cell_type": "code",
   "execution_count": null,
   "id": "df5a0dca",
   "metadata": {},
   "outputs": [],
   "source": [
    "!{PLINK} \\\n",
    "    --bfile example_1/data/example_1 \\\n",
    "    --pheno example_1/data/pheno_1.pheno \\\n",
    "    --glm \\\n",
    "    --out example_1/data/gwas.linreg"
   ]
  },
  {
   "cell_type": "markdown",
   "id": "4505b6df",
   "metadata": {},
   "source": [
    "This prints GWAS summary statistics to `example_1/data/gwas.linreg.pheno_1.glm.linear`.\n",
    "\n",
    "We can explore the results using the following plotting functions."
   ]
  },
  {
   "cell_type": "code",
   "execution_count": null,
   "id": "e36a3d87",
   "metadata": {},
   "outputs": [],
   "source": [
    "sumstats_path = \"example_1/data/gwas.linreg.pheno_1.glm.linear\"\n",
    "\n",
    "draw_manhattan_plot(sumstats_path)\n",
    "\n",
    "draw_qq_plot(sumstats_path)"
   ]
  },
  {
   "cell_type": "markdown",
   "id": "5c2b3794",
   "metadata": {},
   "source": [
    "#### The summary statistics are considerably inflated.\n",
    "* What could be the issue and how could we verify our hypotheses?\n",
    "* How can we proceed and remove the confounding?\n",
    "\n",
    "We start by performing PCA on the genotypes. We extract the top 10 principal components using all markers with allele frequency >5% and draw up the top 2 principal components."
   ]
  },
  {
   "cell_type": "code",
   "execution_count": null,
   "id": "b9ed1e44",
   "metadata": {},
   "outputs": [],
   "source": [
    "!{PLINK} \\\n",
    "    --bfile example_1/data/example_1 \\\n",
    "    --pca 10 \\\n",
    "    --maf 0.05 \\\n",
    "    --out example_1/data/example_1\n",
    "\n",
    "draw_top_2_pcs(\"example_1/data/example_1.eigenvec\", \"example_1/data/populations_1.txt\")"
   ]
  },
  {
   "cell_type": "markdown",
   "id": "6d0c076a",
   "metadata": {},
   "source": [
    "#### Our sample looks like it has considerable structure.\n",
    "To adjust for population structure and stratification, we add the top 10 principal components as covariates to our model: $y = bx + \\text{PC}_1\\alpha_1 + ... \\text{PC}_{10}\\alpha_{10} + \\epsilon$."
   ]
  },
  {
   "cell_type": "code",
   "execution_count": null,
   "id": "57bdd08a",
   "metadata": {},
   "outputs": [],
   "source": [
    "!{PLINK} \\\n",
    "    --bfile example_1/data/example_1 \\\n",
    "    --pheno example_1/data/pheno_1.pheno \\\n",
    "    --glm \\\n",
    "    --covar-variance-standardize \\\n",
    "    --covar example_1/data/example_1.eigenvec \\\n",
    "    --out example_1/data/gwas.pca\n",
    "\n",
    "draw_manhattan_plot(\"example_1/data/gwas.pca.pheno_1.glm.linear\")\n",
    "\n",
    "draw_qq_plot(\"example_1/data/gwas.pca.pheno_1.glm.linear\")"
   ]
  },
  {
   "cell_type": "markdown",
   "id": "d71619ec",
   "metadata": {},
   "source": [
    "#### Why did we observe all this inflation? \n",
    "If we look under the hood of the simulation, we see that the underlying demographic model has three distinct populations. This is just as we expected from the principal component analysis. There is also considerable stratification in the phenotype."
   ]
  },
  {
   "cell_type": "code",
   "execution_count": null,
   "id": "43eacadf",
   "metadata": {},
   "outputs": [],
   "source": [
    "draw_stratification('example_1/data/pheno_1.pheno', 'example_1/data/populations_1.txt')\n",
    "display(Image(\"example_1/data/demes.png\"))"
   ]
  },
  {
   "cell_type": "markdown",
   "id": "5978e19f",
   "metadata": {},
   "source": [
    "# Exercise 2\n",
    "\n",
    "In this exercise, we proceed as in the previous one. We have data of the same shape and size saved in `example_2/data/example_2.[bim/bed/fam]` and `example_2/data/pheno_2.pheno`, and start with a linear regression GWAS."
   ]
  },
  {
   "cell_type": "code",
   "execution_count": null,
   "id": "4087c963",
   "metadata": {},
   "outputs": [],
   "source": [
    "!{PLINK} \\\n",
    "    --bfile example_2/data/example_2 \\\n",
    "    --pheno example_2/data/pheno_2.pheno \\\n",
    "    --glm \\\n",
    "    --out example_2/data/gwas.linreg"
   ]
  },
  {
   "cell_type": "code",
   "execution_count": null,
   "id": "3477c9eb",
   "metadata": {},
   "outputs": [],
   "source": [
    "sumstats_path = \"example_2/data/gwas.linreg.pheno_2.glm.linear\"\n",
    "\n",
    "draw_manhattan_plot(sumstats_path)\n",
    "\n",
    "draw_qq_plot(sumstats_path)"
   ]
  },
  {
   "cell_type": "markdown",
   "id": "b86213d1",
   "metadata": {},
   "source": [
    "Again we observe inflation, but in this case the principal components offer little insight:"
   ]
  },
  {
   "cell_type": "code",
   "execution_count": null,
   "id": "3b8a8f35",
   "metadata": {},
   "outputs": [],
   "source": [
    "!{PLINK} \\\n",
    "    --bfile example_2/data/example_2 \\\n",
    "    --pca 10 \\\n",
    "    --maf 0.05 \\\n",
    "    --out example_2/data/example_2\n",
    "\n",
    "draw_top_2_pcs(\"example_2/data/example_2.eigenvec\")"
   ]
  },
  {
   "cell_type": "markdown",
   "id": "9ae30803",
   "metadata": {},
   "source": [
    "#### \n",
    "With $\\lambda_{GC}\\gg 1$ we are likely to find many false positives in our study. Principal components look like they will not help this time.\n",
    "\n",
    "A crude way of controlling for inflation is applying genomic control.\n",
    " \n",
    "Recall that $\\lambda_{GC} = \\frac{ \\text{observed median} \\chi^2}{ \\text{expected median} \\chi^2}$. To apply genomic control, we divide each $\\chi^2_i$ with $\\lambda_{GC}$.\n",
    "\n",
    "We run plink again using the `--adjust` command. In addition to the linear regression GWAS, this prints adjusted P-values to `example_2/data/gwas_adjust.pheno_2.glm.linear.adjusted`."
   ]
  },
  {
   "cell_type": "code",
   "execution_count": null,
   "id": "1613399e",
   "metadata": {},
   "outputs": [],
   "source": [
    "!{PLINK}  \\\n",
    "    --bfile example_2/data/example_2 \\\n",
    "    --pheno example_2/data/pheno_2.pheno \\\n",
    "    --glm \\\n",
    "    --adjust \\\n",
    "    --out example_2/data/gwas_adjust\n",
    "\n",
    "draw_qq_plot(\"example_2/data/gwas_adjust.pheno_2.glm.linear.adjusted\")\n",
    "draw_manhattan_plot(\"example_2/data/gwas_adjust.pheno_2.glm.linear\", \"example_2/data/gwas_adjust.pheno_2.glm.linear.adjusted\")"
   ]
  },
  {
   "cell_type": "markdown",
   "id": "f2cafc75",
   "metadata": {},
   "source": [
    "It looks like genomic control is too conservative in our setting as the lowest p-value is now less than $5\\cdot 10^{-6}$.\n",
    "\n",
    "But we have one more trick up our sleeve, the linear mixed model $y = X\\beta + Gu + \\epsilon$.\n",
    "We run the LMM using BOLT-LMM and see if we get an improvement."
   ]
  },
  {
   "cell_type": "code",
   "execution_count": null,
   "id": "45140884",
   "metadata": {},
   "outputs": [],
   "source": [
    "!{BOLT} \\\n",
    "    --bfile=example_2/data/example_2 \\\n",
    "    --phenoFile=example_2/data/pheno_2.pheno \\\n",
    "    --phenoCol pheno_2 \\\n",
    "    --verboseStats \\\n",
    "    --statsFile=example_2/data/gwas.bolt.pheno_2.sumstats.gz \\\n",
    "    --lmmInfOnly\n",
    "\n",
    "draw_qq_plot(\"example_2/data/gwas.bolt.pheno_2.sumstats.gz\")\n",
    "draw_manhattan_plot(\"example_2/data/gwas.bolt.pheno_2.sumstats.gz\")"
   ]
  },
  {
   "cell_type": "markdown",
   "id": "6d393332",
   "metadata": {},
   "source": [
    "Recall that the LMM algorithm has two steps: Model fitting and association. Briefly read through the BOLT-LMM logs and see if you can recognise them.\n",
    "* What is the heritability that BOLT estimates?\n",
    "* What is the calibration factor?\n",
    "* BOLT-LMM gives us $\\lambda_{GC}$ both for the LMM and linear regression. Note the difference.\n"
   ]
  },
  {
   "cell_type": "markdown",
   "id": "45d14429",
   "metadata": {},
   "source": [
    "#### Why were our summary statistics inflated?\n",
    "If not population structure, the other usual suspect is relatedness. One heuristic way of finding related samples is looking at the maximum value per row in the GRM $A$. If $A_{ij}>0.25$, we can conclude that individuals $i$ and $j$ are probably related.\n",
    "\n",
    "If we plot the closest kinship for each individual, we see that our samples are extremely related."
   ]
  },
  {
   "cell_type": "code",
   "execution_count": null,
   "id": "61b153e1",
   "metadata": {},
   "outputs": [],
   "source": [
    "!{PLINK} \\\n",
    "    --bfile example_2/data/example_2 \\\n",
    "    --make-rel square \\\n",
    "    --out example_2/data/example_2\n",
    "\n",
    "draw_relatedness(\"example_2/data/example_2.rel\")"
   ]
  },
  {
   "cell_type": "markdown",
   "id": "242d1bf9",
   "metadata": {},
   "source": [
    "Another popular program to run an LMM is Regenie. Regenie is less accurate than BOLT but can scale to larger sample sizes. Running Regenie has two steps:"
   ]
  },
  {
   "cell_type": "code",
   "execution_count": null,
   "id": "f29aa2ca",
   "metadata": {
    "scrolled": true
   },
   "outputs": [],
   "source": [
    "!{REGENIE} \\\n",
    "    --step 1 --bsize 500 \\\n",
    "    --bed example_2/data/example_2 \\\n",
    "    --phenoFile example_2/data/pheno_2.pheno \\\n",
    "    --out example_2/data/gwas.regenie \\\n",
    "    --gz\n",
    "\n",
    "!{REGENIE} \\\n",
    "    --step 2 --bsize 1000\\\n",
    "    --bed example_2/data/example_2 \\\n",
    "    --phenoFile example_2/data/pheno_2.pheno \\\n",
    "    --minMAC 1 \\\n",
    "    --pred example_2/data/gwas.regenie_pred.list \\\n",
    "    --out example_2/data/gwas.regenie \\\n",
    "    --gz"
   ]
  },
  {
   "cell_type": "markdown",
   "id": "1f212146",
   "metadata": {},
   "source": [
    "The following block of code compares the inflation of linear regression, linear regression with genomic control, BOLT-LMM and Regenie."
   ]
  },
  {
   "cell_type": "code",
   "execution_count": null,
   "id": "33019955",
   "metadata": {},
   "outputs": [],
   "source": [
    "draw_multiple_qq()"
   ]
  },
  {
   "cell_type": "markdown",
   "id": "3b1d1d1b",
   "metadata": {},
   "source": [
    "# Exercise 3\n",
    "In this exercise we provide data in  `example_3/data/example_3.[bim/bed/fam]` and `example_3/data/pheno_3.pheno` but leave the analysis to you.\n",
    "\n",
    "By going through the following steps "
   ]
  },
  {
   "cell_type": "markdown",
   "id": "4a3e7caf",
   "metadata": {},
   "source": [
    "#### 1. Perform a GWAS using linear regression and draw a Manhattan plot"
   ]
  },
  {
   "cell_type": "code",
   "execution_count": null,
   "id": "aa5d271b",
   "metadata": {},
   "outputs": [],
   "source": [
    "# Code goes here"
   ]
  },
  {
   "cell_type": "markdown",
   "id": "8fe05215",
   "metadata": {},
   "source": [
    "#### 2. Draw a QQ plot of the results"
   ]
  },
  {
   "cell_type": "code",
   "execution_count": null,
   "id": "60d41130",
   "metadata": {},
   "outputs": [],
   "source": [
    "# Code goes here"
   ]
  },
  {
   "cell_type": "markdown",
   "id": "4f82cec6",
   "metadata": {},
   "source": [
    "#### 3. Perform PCA and inspect the top 2 principal components for structure"
   ]
  },
  {
   "cell_type": "code",
   "execution_count": null,
   "id": "68da30b5",
   "metadata": {},
   "outputs": [],
   "source": [
    "# Code goes here"
   ]
  },
  {
   "cell_type": "markdown",
   "id": "5f60ed8d",
   "metadata": {},
   "source": [
    "#### 4. Build the GRM and inspect it for related samples"
   ]
  },
  {
   "cell_type": "code",
   "execution_count": null,
   "id": "79410e6c",
   "metadata": {},
   "outputs": [],
   "source": [
    "# Code goes here"
   ]
  },
  {
   "cell_type": "markdown",
   "id": "70cd835d",
   "metadata": {},
   "source": [
    "You should now have enough information to draw conclusions about the structure of the sample and the phenotype. Was there inflation? Was it caused by structure, relatedness, or something else entirely?"
   ]
  },
  {
   "cell_type": "markdown",
   "id": "2a2d7652",
   "metadata": {},
   "source": [
    "#### 5. For extra credit, see if you can run BOLT-LMM on the phenotype and inspect the output. Does this give extra insight?"
   ]
  },
  {
   "cell_type": "code",
   "execution_count": null,
   "id": "bab1799b",
   "metadata": {},
   "outputs": [],
   "source": [
    "# Code goes here"
   ]
  }
 ],
 "metadata": {
  "kernelspec": {
   "display_name": "Python 3 (ipykernel)",
   "language": "python",
   "name": "python3"
  },
  "language_info": {
   "codemirror_mode": {
    "name": "ipython",
    "version": 3
   },
   "file_extension": ".py",
   "mimetype": "text/x-python",
   "name": "python",
   "nbconvert_exporter": "python",
   "pygments_lexer": "ipython3",
   "version": "3.7.3"
  }
 },
 "nbformat": 4,
 "nbformat_minor": 5
}
